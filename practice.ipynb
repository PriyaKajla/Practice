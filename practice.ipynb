{
  "nbformat": 4,
  "nbformat_minor": 0,
  "metadata": {
    "colab": {
      "name": "Untitled0.ipynb",
      "version": "0.3.2",
      "provenance": [],
      "collapsed_sections": []
    },
    "kernelspec": {
      "name": "python3",
      "display_name": "Python 3"
    }
  },
  "cells": [
    {
      "cell_type": "code",
      "metadata": {
        "id": "jG8t4eA-JuvQ",
        "colab_type": "code",
        "colab": {
          "base_uri": "https://localhost:8080/",
          "height": 34
        },
        "outputId": "ab446ea1-f575-4504-b2ea-463b87a9cfbb"
      },
      "source": [
        "def sum(a,b):\n",
        "  sum = a+b\n",
        "  print(sum)\n",
        "  \n",
        "sum(2,4)\n"
      ],
      "execution_count": 5,
      "outputs": [
        {
          "output_type": "stream",
          "text": [
            "6\n"
          ],
          "name": "stdout"
        }
      ]
    },
    {
      "cell_type": "code",
      "metadata": {
        "id": "q3SiFRliKI_i",
        "colab_type": "code",
        "colab": {
          "base_uri": "https://localhost:8080/",
          "height": 34
        },
        "outputId": "cfc60117-5b81-4221-8725-9058149ff262"
      },
      "source": [
        "def big(a,b,c):\n",
        "  if (a>b) and (a>c):\n",
        "    print(a,\"is big\")\n",
        "  elif (b>a) and (b>c):\n",
        "    print(b, \"is big\")\n",
        "  else:\n",
        "    print(c, \"is big\")\n",
        "\n",
        "big(9,7,2)      "
      ],
      "execution_count": 16,
      "outputs": [
        {
          "output_type": "stream",
          "text": [
            "9 is big\n"
          ],
          "name": "stdout"
        }
      ]
    },
    {
      "cell_type": "code",
      "metadata": {
        "id": "mEFzbwzsd1mz",
        "colab_type": "code",
        "colab": {
          "base_uri": "https://localhost:8080/",
          "height": 34
        },
        "outputId": "1d1c9256-d5eb-4de6-b190-dbb00fb9098e"
      },
      "source": [
        "lis=[1,2,3]\n",
        "max=0\n",
        "for i in lis:\n",
        "  if i > max:\n",
        "    max = i\n",
        "print(max)"
      ],
      "execution_count": 62,
      "outputs": [
        {
          "output_type": "stream",
          "text": [
            "3\n"
          ],
          "name": "stdout"
        }
      ]
    },
    {
      "cell_type": "code",
      "metadata": {
        "id": "HIyGp5Llf_2X",
        "colab_type": "code",
        "colab": {}
      },
      "source": [
        "a=[2,3,44,5]\n",
        "b=[]\n",
        "for i in range(len(a)-1,-1,-1):\n",
        "  b.append(a[i])\n",
        "print(b)"
      ],
      "execution_count": 0,
      "outputs": []
    },
    {
      "cell_type": "code",
      "metadata": {
        "id": "AuMYTUvAgbOP",
        "colab_type": "code",
        "colab": {
          "base_uri": "https://localhost:8080/",
          "height": 121
        },
        "outputId": "fd231aff-a4e4-4259-c403-ea941b2249e1"
      },
      "source": [
        "  a=0\n",
        "  b=1\n",
        "  n=7\n",
        "  for i in range(1,n):\n",
        "    c=a+b\n",
        "    a=b\n",
        "    b=c\n",
        "    print(c)\n"
      ],
      "execution_count": 47,
      "outputs": [
        {
          "output_type": "stream",
          "text": [
            "1\n",
            "2\n",
            "3\n",
            "5\n",
            "8\n",
            "13\n"
          ],
          "name": "stdout"
        }
      ]
    },
    {
      "cell_type": "code",
      "metadata": {
        "id": "IP4z877Whg9f",
        "colab_type": "code",
        "colab": {
          "base_uri": "https://localhost:8080/",
          "height": 121
        },
        "outputId": "711a3d94-957c-428a-d59d-0c8d54eb1629"
      },
      "source": [
        "def fibonacci(n):\n",
        "  a=0\n",
        "  b=1\n",
        "  n=7\n",
        "  for i in range(1,n):\n",
        "    c=a+b\n",
        "    a=b\n",
        "    b=c\n",
        "    print(c)\n",
        "\n",
        "fibonacci(5)"
      ],
      "execution_count": 49,
      "outputs": [
        {
          "output_type": "stream",
          "text": [
            "1\n",
            "2\n",
            "3\n",
            "5\n",
            "8\n",
            "13\n"
          ],
          "name": "stdout"
        }
      ]
    },
    {
      "cell_type": "code",
      "metadata": {
        "id": "fWKKDdgKmYfC",
        "colab_type": "code",
        "colab": {
          "base_uri": "https://localhost:8080/",
          "height": 52
        },
        "outputId": "cf8f623a-bd27-4cbc-fd04-7d943f9a2700"
      },
      "source": [
        "import numpy as np\n",
        "vector = np.array([1, 2, 3])\n",
        "print(vector)\n",
        "vector[:3]"
      ],
      "execution_count": 61,
      "outputs": [
        {
          "output_type": "stream",
          "text": [
            "[1 2 3]\n"
          ],
          "name": "stdout"
        },
        {
          "output_type": "execute_result",
          "data": {
            "text/plain": [
              "array([1, 2, 3])"
            ]
          },
          "metadata": {
            "tags": []
          },
          "execution_count": 61
        }
      ]
    },
    {
      "cell_type": "code",
      "metadata": {
        "id": "_ghLmBdKnU2p",
        "colab_type": "code",
        "colab": {}
      },
      "source": [
        "vector = np.array([[1,2,3],[4,5,6]])\n",
        "print(vector)\n",
        "\n",
        "vector_1 = np.array([1,2,3])\n",
        "print(vector_1)"
      ],
      "execution_count": 0,
      "outputs": []
    },
    {
      "cell_type": "code",
      "metadata": {
        "id": "XySdhK7k01o0",
        "colab_type": "code",
        "colab": {
          "base_uri": "https://localhost:8080/",
          "height": 121
        },
        "outputId": "7fe3aa34-a705-44e9-bf4c-7a5741ad215f"
      },
      "source": [
        "a=np.random.randn(3,3)\n",
        "print(a)\n",
        "b=np.random.randn(1,6,(3,3))\n",
        "print(b)"
      ],
      "execution_count": 63,
      "outputs": [
        {
          "output_type": "stream",
          "text": [
            "[[-0.25425833 -0.26069793 -0.26924265]\n",
            " [ 0.80509865  0.75050866 -1.99708534]\n",
            " [ 0.12631105  1.03988986 -0.19797544]]\n",
            "[[-1.87108991 -0.78148961  0.67352361]\n",
            " [-0.33726705  0.35617124 -0.20278025]\n",
            " [ 0.08588514 -1.22771475  1.7830428 ]]\n"
          ],
          "name": "stdout"
        }
      ]
    },
    {
      "cell_type": "code",
      "metadata": {
        "id": "nznGEDvY1k0C",
        "colab_type": "code",
        "colab": {
          "base_uri": "https://localhost:8080/",
          "height": 69
        },
        "outputId": "4730d6d9-b450-4313-f39d-527fb8823a05"
      },
      "source": [
        "cross_product = np.cross(a,b)\n",
        "print(cross_product)"
      ],
      "execution_count": 64,
      "outputs": [
        {
          "output_type": "stream",
          "text": [
            "[[-0.38599655  0.6750262  -0.28908902]\n",
            " [ 0.55911603  0.83680918  0.53987483]\n",
            " [ 1.61111076 -0.24222116 -0.24438503]]\n"
          ],
          "name": "stdout"
        }
      ]
    },
    {
      "cell_type": "code",
      "metadata": {
        "id": "ucZuHV2c1zUF",
        "colab_type": "code",
        "colab": {
          "base_uri": "https://localhost:8080/",
          "height": 69
        },
        "outputId": "9ed332e2-43cf-41b9-c969-ee3c12e64f1b"
      },
      "source": [
        "dot_product = np.dot(a,b)\n",
        "print(dot_product)"
      ],
      "execution_count": 65,
      "outputs": [
        {
          "output_type": "stream",
          "text": [
            "[[ 0.54054108  0.43640032 -0.59845578]\n",
            " [-1.93105376  2.08998451 -3.17082403]\n",
            " [-0.60406306  0.51472546 -0.47879433]]\n"
          ],
          "name": "stdout"
        }
      ]
    },
    {
      "cell_type": "code",
      "metadata": {
        "id": "veqlcgAN14IK",
        "colab_type": "code",
        "colab": {
          "base_uri": "https://localhost:8080/",
          "height": 69
        },
        "outputId": "e6872c73-2a5a-4586-9501-1839ca513aae"
      },
      "source": [
        "addition = np.add(a,b)\n",
        "print(addition)"
      ],
      "execution_count": 66,
      "outputs": [
        {
          "output_type": "stream",
          "text": [
            "[[-2.12534824 -1.04218754  0.40428095]\n",
            " [ 0.46783161  1.1066799  -2.19986559]\n",
            " [ 0.21219619 -0.18782489  1.58506736]]\n"
          ],
          "name": "stdout"
        }
      ]
    },
    {
      "cell_type": "code",
      "metadata": {
        "id": "q1zmOXWx_TeS",
        "colab_type": "code",
        "colab": {}
      },
      "source": [
        ""
      ],
      "execution_count": 0,
      "outputs": []
    },
    {
      "cell_type": "code",
      "metadata": {
        "id": "lwryd_WH_g1K",
        "colab_type": "code",
        "colab": {}
      },
      "source": [
        ""
      ],
      "execution_count": 0,
      "outputs": []
    }
  ]
}